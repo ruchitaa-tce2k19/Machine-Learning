{
 "cells": [
  {
   "cell_type": "code",
   "execution_count": 1,
   "id": "14878894",
   "metadata": {},
   "outputs": [],
   "source": [
    "import cv2\n",
    "import numpy as np"
   ]
  },
  {
   "cell_type": "code",
   "execution_count": null,
   "id": "2ea3e189",
   "metadata": {
    "scrolled": false
   },
   "outputs": [],
   "source": [
    "img = cv2.imread(\"zverev.jpg\")\n",
    "gray = cv2.cvtColor(img, cv2.COLOR_BGR2GRAY)\n",
    "gray = cv2.medianBlur(gray,5)\n",
    "edges = cv2.adaptiveThreshold(gray,255,cv2.ADAPTIVE_THRESH_MEAN_C,cv2.THRESH_BINARY,9,9)\n",
    "color = cv2.bilateralFilter(img,9,250,250)\n",
    "cartoon = cv2.bitwise_and(color,color, mask=edges)\n",
    "cv2.imshow(\"Image\",img)\n",
    "cv2.imshow(\"edges\",edges)\n",
    "cv2.imshow(\"cartoon\",cartoon)\n",
    "cv2.waitKey(0)\n",
    "cv2.destroyAllWindows()"
   ]
  },
  {
   "cell_type": "markdown",
   "id": "31db58c3",
   "metadata": {},
   "source": [
    "A cartoon image contains less color palette and dark edges. Inorder to add a cartoon effect to a picture, we need to reduce the color palette and highlight the borders. To reduce the color palette, I have used Bilateral Filter. To identify the edges, I have used Adaptive Thresholding."
   ]
  }
 ],
 "metadata": {
  "kernelspec": {
   "display_name": "Python 3",
   "language": "python",
   "name": "python3"
  },
  "language_info": {
   "codemirror_mode": {
    "name": "ipython",
    "version": 3
   },
   "file_extension": ".py",
   "mimetype": "text/x-python",
   "name": "python",
   "nbconvert_exporter": "python",
   "pygments_lexer": "ipython3",
   "version": "3.8.8"
  }
 },
 "nbformat": 4,
 "nbformat_minor": 5
}
